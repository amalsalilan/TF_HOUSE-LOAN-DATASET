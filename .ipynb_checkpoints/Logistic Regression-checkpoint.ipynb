{
 "cells": [
  {
   "cell_type": "markdown",
   "id": "ded9ac83",
   "metadata": {},
   "source": [
    "binary classification and multiclass classification are the results of the technique employed to solve the classification problem in this case.\n",
    "its sigmoid and logistic funtion-"
   ]
  },
  {
   "cell_type": "code",
   "execution_count": 1,
   "id": "3bd83158",
   "metadata": {},
   "outputs": [],
   "source": [
    "import pandas as pd\n",
    "import numpy as np\n",
    "from sklearn.preprocessing import MinMaxScaler\n",
    "scaler=MinMaxScaler()"
   ]
  },
  {
   "cell_type": "code",
   "execution_count": 2,
   "id": "60686b6e",
   "metadata": {},
   "outputs": [
    {
     "name": "stdout",
     "output_type": "stream",
     "text": [
      "<class 'pandas.core.frame.DataFrame'>\n",
      "Int64Index: 981 entries, 0 to 613\n",
      "Data columns (total 12 columns):\n",
      " #   Column             Non-Null Count  Dtype  \n",
      "---  ------             --------------  -----  \n",
      " 0   Gender             957 non-null    object \n",
      " 1   Married            978 non-null    object \n",
      " 2   Dependents         956 non-null    object \n",
      " 3   Education          981 non-null    object \n",
      " 4   Self_Employed      926 non-null    object \n",
      " 5   ApplicantIncome    981 non-null    int64  \n",
      " 6   CoapplicantIncome  981 non-null    float64\n",
      " 7   LoanAmount         954 non-null    float64\n",
      " 8   Loan_Amount_Term   961 non-null    float64\n",
      " 9   Credit_History     902 non-null    float64\n",
      " 10  Property_Area      981 non-null    object \n",
      " 11  Loan_Status        614 non-null    object \n",
      "dtypes: float64(4), int64(1), object(7)\n",
      "memory usage: 99.6+ KB\n"
     ]
    }
   ],
   "source": [
    "df_test=pd.read_csv('/home/amal/NoteBook/Dataset/loan_sanction_test.csv')\n",
    "df_train=pd.read_csv('/home/amal/NoteBook/Dataset/loan_sanction_train.csv')\n",
    "frame=[df_test,df_train]\n",
    "data=pd.concat(frame)\n",
    "data = data.drop(['Loan_ID'], axis=1)\n",
    "data.info()"
   ]
  },
  {
   "cell_type": "code",
   "execution_count": 3,
   "id": "4fc69c9a",
   "metadata": {},
   "outputs": [
    {
     "name": "stdout",
     "output_type": "stream",
     "text": [
      "Gender                2.446483\n",
      "Married               0.305810\n",
      "Dependents            2.548420\n",
      "Education             0.000000\n",
      "Self_Employed         5.606524\n",
      "ApplicantIncome       0.000000\n",
      "CoapplicantIncome     0.000000\n",
      "LoanAmount            2.752294\n",
      "Loan_Amount_Term      2.038736\n",
      "Credit_History        8.053007\n",
      "Property_Area         0.000000\n",
      "Loan_Status          37.410805\n",
      "dtype: float64\n"
     ]
    }
   ],
   "source": [
    "import numpy as np\n",
    "\n",
    "# calculate the percentage of missing values for each column\n",
    "missing_values_percent = data.isnull().sum() / len(data) * 100\n",
    "print(missing_values_percent)\n",
    "\n",
    "# create a list of columns to drop\n",
    "columns_to_drop = missing_values_percent[missing_values_percent > 50].index.tolist()\n",
    "\n",
    "# drop the columns with more than 50% missing values\n",
    "data = data.drop(columns_to_drop, axis=1)\n",
    "\n",
    "# fill the remaining missing values\n",
    "for column in data.columns:\n",
    "    if data[column].dtype == 'object':\n",
    "        # fill missing values with the mode of the column\n",
    "        data[column] = data[column].fillna(data[column].mode()[0])\n",
    "    elif data[column].dtype in ['int64', 'float64']:\n",
    "        # fill missing values with the mean of the column\n",
    "        data[column] = data[column].fillna(data[column].mean())\n"
   ]
  },
  {
   "cell_type": "code",
   "execution_count": 4,
   "id": "92e22bca",
   "metadata": {},
   "outputs": [
    {
     "data": {
      "text/plain": [
       "array([1, 0])"
      ]
     },
     "execution_count": 4,
     "metadata": {},
     "output_type": "execute_result"
    }
   ],
   "source": [
    "from sklearn.preprocessing import LabelEncoder\n",
    "\n",
    "# Initialize the label encoder\n",
    "encoder = LabelEncoder()\n",
    "\n",
    "# Encode the \"Loan_Status\" column\n",
    "data['Loan_Status'] = encoder.fit_transform(data['Loan_Status'])\n",
    "y=data['Loan_Status']\n",
    "# Check the unique values of the \"Loan_Status\" column after encoding\n",
    "# print(data['Loan_Status'].unique())\n",
    "# Output: [1 0]\n",
    "data['Loan_Status'].unique()\n"
   ]
  },
  {
   "cell_type": "code",
   "execution_count": 5,
   "id": "df08ec71",
   "metadata": {},
   "outputs": [
    {
     "data": {
      "text/plain": [
       "array([1, 0])"
      ]
     },
     "execution_count": 5,
     "metadata": {},
     "output_type": "execute_result"
    }
   ],
   "source": [
    "data.Loan_Status.unique()"
   ]
  },
  {
   "cell_type": "code",
   "execution_count": 6,
   "id": "6b96a29e",
   "metadata": {},
   "outputs": [],
   "source": [
    "categorical_columns = []\n",
    "\n",
    "# iterate through each column in the dataset\n",
    "for column in data.columns:\n",
    "    # check if the column is of type 'object' (usually a categorical column)\n",
    "    if data[column].dtype == 'object':\n",
    "        # add the column to the list\n",
    "        categorical_columns.append(column)\n",
    "\n",
    "# create a new dataset with only the categorical columns\n",
    "categorical_df = pd.DataFrame(data[categorical_columns])"
   ]
  },
  {
   "cell_type": "code",
   "execution_count": 7,
   "id": "b71ecb6b",
   "metadata": {},
   "outputs": [],
   "source": [
    "import pandas as pd\n",
    "\n",
    "# One-hot encode the categorical columns\n",
    "encoded_categorical_df = pd.get_dummies(categorical_df, columns=['Gender', 'Married', 'Dependents', 'Education', 'Self_Employed', 'Property_Area'])\n"
   ]
  },
  {
   "cell_type": "code",
   "execution_count": 8,
   "id": "74c4df52",
   "metadata": {},
   "outputs": [
    {
     "name": "stdout",
     "output_type": "stream",
     "text": [
      "<class 'pandas.core.frame.DataFrame'>\n",
      "Int64Index: 981 entries, 0 to 613\n",
      "Data columns (total 15 columns):\n",
      " #   Column                   Non-Null Count  Dtype\n",
      "---  ------                   --------------  -----\n",
      " 0   Gender_Female            981 non-null    uint8\n",
      " 1   Gender_Male              981 non-null    uint8\n",
      " 2   Married_No               981 non-null    uint8\n",
      " 3   Married_Yes              981 non-null    uint8\n",
      " 4   Dependents_0             981 non-null    uint8\n",
      " 5   Dependents_1             981 non-null    uint8\n",
      " 6   Dependents_2             981 non-null    uint8\n",
      " 7   Dependents_3+            981 non-null    uint8\n",
      " 8   Education_Graduate       981 non-null    uint8\n",
      " 9   Education_Not Graduate   981 non-null    uint8\n",
      " 10  Self_Employed_No         981 non-null    uint8\n",
      " 11  Self_Employed_Yes        981 non-null    uint8\n",
      " 12  Property_Area_Rural      981 non-null    uint8\n",
      " 13  Property_Area_Semiurban  981 non-null    uint8\n",
      " 14  Property_Area_Urban      981 non-null    uint8\n",
      "dtypes: uint8(15)\n",
      "memory usage: 22.0 KB\n"
     ]
    }
   ],
   "source": [
    "encoded_categorical_df.info()"
   ]
  },
  {
   "cell_type": "code",
   "execution_count": 9,
   "id": "7352c294",
   "metadata": {},
   "outputs": [
    {
     "name": "stdout",
     "output_type": "stream",
     "text": [
      "<class 'pandas.core.frame.DataFrame'>\n",
      "Int64Index: 981 entries, 0 to 613\n",
      "Data columns (total 12 columns):\n",
      " #   Column             Non-Null Count  Dtype  \n",
      "---  ------             --------------  -----  \n",
      " 0   Gender             981 non-null    object \n",
      " 1   Married            981 non-null    object \n",
      " 2   Dependents         981 non-null    object \n",
      " 3   Education          981 non-null    object \n",
      " 4   Self_Employed      981 non-null    object \n",
      " 5   ApplicantIncome    981 non-null    int64  \n",
      " 6   CoapplicantIncome  981 non-null    float64\n",
      " 7   LoanAmount         981 non-null    float64\n",
      " 8   Loan_Amount_Term   981 non-null    float64\n",
      " 9   Credit_History     981 non-null    float64\n",
      " 10  Property_Area      981 non-null    object \n",
      " 11  Loan_Status        981 non-null    int64  \n",
      "dtypes: float64(4), int64(2), object(6)\n",
      "memory usage: 99.6+ KB\n"
     ]
    }
   ],
   "source": [
    "data.info()"
   ]
  },
  {
   "cell_type": "code",
   "execution_count": 10,
   "id": "7478addb",
   "metadata": {},
   "outputs": [],
   "source": [
    "numeri_col=data.loc[:,['ApplicantIncome','CoapplicantIncome','LoanAmount','Loan_Amount_Term','Credit_History']]\n"
   ]
  },
  {
   "cell_type": "code",
   "execution_count": 11,
   "id": "dbe397fc",
   "metadata": {},
   "outputs": [
    {
     "name": "stdout",
     "output_type": "stream",
     "text": [
      "<class 'pandas.core.frame.DataFrame'>\n",
      "Int64Index: 981 entries, 0 to 613\n",
      "Data columns (total 12 columns):\n",
      " #   Column             Non-Null Count  Dtype  \n",
      "---  ------             --------------  -----  \n",
      " 0   Gender             981 non-null    object \n",
      " 1   Married            981 non-null    object \n",
      " 2   Dependents         981 non-null    object \n",
      " 3   Education          981 non-null    object \n",
      " 4   Self_Employed      981 non-null    object \n",
      " 5   ApplicantIncome    981 non-null    int64  \n",
      " 6   CoapplicantIncome  981 non-null    float64\n",
      " 7   LoanAmount         981 non-null    float64\n",
      " 8   Loan_Amount_Term   981 non-null    float64\n",
      " 9   Credit_History     981 non-null    float64\n",
      " 10  Property_Area      981 non-null    object \n",
      " 11  Loan_Status        981 non-null    int64  \n",
      "dtypes: float64(4), int64(2), object(6)\n",
      "memory usage: 99.6+ KB\n"
     ]
    }
   ],
   "source": [
    "data.info()"
   ]
  },
  {
   "cell_type": "code",
   "execution_count": 12,
   "id": "5081d17d",
   "metadata": {},
   "outputs": [],
   "source": [
    "# numeric_col.loc[:, ['ApplicantIncome', 'CoapplicantIncome', 'LoanAmount', 'Credit_History']] = scaler.fit_transform(numeric_col[['ApplicantIncome', 'CoapplicantIncome', 'LoanAmount', 'Credit_History']])\n"
   ]
  },
  {
   "cell_type": "code",
   "execution_count": 13,
   "id": "ddb7acc0",
   "metadata": {},
   "outputs": [],
   "source": [
    "# numeric_col.info()"
   ]
  },
  {
   "cell_type": "code",
   "execution_count": 14,
   "id": "698ec00f",
   "metadata": {},
   "outputs": [],
   "source": [
    "from sklearn.preprocessing import MinMaxScaler\n",
    "scaler = MinMaxScaler()\n",
    "numeri_col[['ApplicantIncome', 'CoapplicantIncome', 'LoanAmount', 'Credit_History']] = scaler.fit_transform(numeri_col[['ApplicantIncome', 'CoapplicantIncome', 'LoanAmount', 'Credit_History']])\n",
    "# Dataset=scaler.fit_transform(concatenated_df)"
   ]
  },
  {
   "cell_type": "code",
   "execution_count": null,
   "id": "6090bc5d",
   "metadata": {},
   "outputs": [],
   "source": []
  },
  {
   "cell_type": "code",
   "execution_count": 15,
   "id": "2138b81b",
   "metadata": {},
   "outputs": [],
   "source": [
    "concatenated_df = pd.concat([encoded_categorical_df, numeri_col], axis=1)\n"
   ]
  },
  {
   "cell_type": "code",
   "execution_count": 16,
   "id": "2e897189",
   "metadata": {},
   "outputs": [
    {
     "name": "stdout",
     "output_type": "stream",
     "text": [
      "<class 'pandas.core.frame.DataFrame'>\n",
      "Int64Index: 981 entries, 0 to 613\n",
      "Data columns (total 20 columns):\n",
      " #   Column                   Non-Null Count  Dtype  \n",
      "---  ------                   --------------  -----  \n",
      " 0   Gender_Female            981 non-null    uint8  \n",
      " 1   Gender_Male              981 non-null    uint8  \n",
      " 2   Married_No               981 non-null    uint8  \n",
      " 3   Married_Yes              981 non-null    uint8  \n",
      " 4   Dependents_0             981 non-null    uint8  \n",
      " 5   Dependents_1             981 non-null    uint8  \n",
      " 6   Dependents_2             981 non-null    uint8  \n",
      " 7   Dependents_3+            981 non-null    uint8  \n",
      " 8   Education_Graduate       981 non-null    uint8  \n",
      " 9   Education_Not Graduate   981 non-null    uint8  \n",
      " 10  Self_Employed_No         981 non-null    uint8  \n",
      " 11  Self_Employed_Yes        981 non-null    uint8  \n",
      " 12  Property_Area_Rural      981 non-null    uint8  \n",
      " 13  Property_Area_Semiurban  981 non-null    uint8  \n",
      " 14  Property_Area_Urban      981 non-null    uint8  \n",
      " 15  ApplicantIncome          981 non-null    float64\n",
      " 16  CoapplicantIncome        981 non-null    float64\n",
      " 17  LoanAmount               981 non-null    float64\n",
      " 18  Loan_Amount_Term         981 non-null    float64\n",
      " 19  Credit_History           981 non-null    float64\n",
      "dtypes: float64(5), uint8(15)\n",
      "memory usage: 60.4 KB\n"
     ]
    }
   ],
   "source": [
    "concatenated_df.info()"
   ]
  },
  {
   "cell_type": "markdown",
   "id": "6320488b",
   "metadata": {},
   "source": [
    "\n",
    "# MODEL CREATION"
   ]
  },
  {
   "cell_type": "code",
   "execution_count": 18,
   "id": "194ad429",
   "metadata": {},
   "outputs": [],
   "source": [
    "from sklearn.model_selection import train_test_split\n",
    "\n",
    "# Split the data into training and testing sets\n",
    "X_train, X_test, y_train, y_test = train_test_split(concatenated_df, data['Loan_Status'], test_size=0.25, random_state=42)\n"
   ]
  },
  {
   "cell_type": "code",
   "execution_count": 19,
   "id": "901dde66",
   "metadata": {},
   "outputs": [
    {
     "name": "stdout",
     "output_type": "stream",
     "text": [
      "735\n",
      "735\n"
     ]
    }
   ],
   "source": [
    "from sklearn.linear_model Logistic\\ Regression.ipynb"
   ]
  }
 ],
 "metadata": {
  "kernelspec": {
   "display_name": "Python 3 (ipykernel)",
   "language": "python",
   "name": "python3"
  },
  "language_info": {
   "codemirror_mode": {
    "name": "ipython",
    "version": 3
   },
   "file_extension": ".py",
   "mimetype": "text/x-python",
   "name": "python",
   "nbconvert_exporter": "python",
   "pygments_lexer": "ipython3",
   "version": "3.9.13"
  }
 },
 "nbformat": 4,
 "nbformat_minor": 5
}
